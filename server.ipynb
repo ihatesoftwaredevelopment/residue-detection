{
 "cells": [
  {
   "cell_type": "markdown",
   "metadata": {},
   "source": [
    "# Flask REST API in Jupyter runs as a Server"
   ]
  },
  {
   "cell_type": "code",
   "execution_count": 1,
   "metadata": {},
   "outputs": [],
   "source": [
    "from flask import Flask\n",
    "\n",
    "UPLOAD_FOLDER = 'static/uploads/'\n",
    "\n",
    "\n",
    "app = Flask(__name__)\n",
    "app.secret_key = \"secret key\"\n",
    "app.config['UPLOAD_FOLDER'] = UPLOAD_FOLDER\n",
    "app.config['MAX_CONTENT_LENGTH'] = 16 * 1024 * 1024\n",
    "import numpy as np \n",
    "import pandas as pd \n",
    "from PIL import Image\n",
    "import tensorflow as tf\n",
    "import random\n",
    "from matplotlib import pyplot as plt\n",
    "import os\n",
    "import h5py"
   ]
  },
  {
   "cell_type": "code",
   "execution_count": null,
   "metadata": {},
   "outputs": [],
   "source": []
  },
  {
   "cell_type": "code",
   "execution_count": 2,
   "metadata": {},
   "outputs": [
    {
     "name": "stderr",
     "output_type": "stream",
     "text": [
      "2023-02-01 13:08:50.238516: I tensorflow/core/common_runtime/pluggable_device/pluggable_device_factory.cc:305] Could not identify NUMA node of platform GPU ID 0, defaulting to 0. Your kernel may not have been built with NUMA support.\n",
      "2023-02-01 13:08:50.238885: I tensorflow/core/common_runtime/pluggable_device/pluggable_device_factory.cc:271] Created TensorFlow device (/job:localhost/replica:0/task:0/device:GPU:0 with 0 MB memory) -> physical PluggableDevice (device: 0, name: METAL, pci bus id: <undefined>)\n"
     ]
    },
    {
     "name": "stdout",
     "output_type": "stream",
     "text": [
      "Metal device set to: Apple M1\n",
      "Model: \"sequential_1\"\n",
      "_________________________________________________________________\n",
      " Layer (type)                Output Shape              Param #   \n",
      "=================================================================\n",
      " conv2d_6 (Conv2D)           (None, 170, 272, 30)      2280      \n",
      "                                                                 \n",
      " batch_normalization_6 (Batc  (None, 170, 272, 30)     120       \n",
      " hNormalization)                                                 \n",
      "                                                                 \n",
      " re_lu_6 (ReLU)              (None, 170, 272, 30)      0         \n",
      "                                                                 \n",
      " max_pooling2d_6 (MaxPooling  (None, 169, 271, 30)     0         \n",
      " 2D)                                                             \n",
      "                                                                 \n",
      " conv2d_7 (Conv2D)           (None, 85, 136, 30)       8130      \n",
      "                                                                 \n",
      " batch_normalization_7 (Batc  (None, 85, 136, 30)      120       \n",
      " hNormalization)                                                 \n",
      "                                                                 \n",
      " re_lu_7 (ReLU)              (None, 85, 136, 30)       0         \n",
      "                                                                 \n",
      " max_pooling2d_7 (MaxPooling  (None, 84, 135, 30)      0         \n",
      " 2D)                                                             \n",
      "                                                                 \n",
      " conv2d_8 (Conv2D)           (None, 42, 68, 60)        16260     \n",
      "                                                                 \n",
      " batch_normalization_8 (Batc  (None, 42, 68, 60)       240       \n",
      " hNormalization)                                                 \n",
      "                                                                 \n",
      " re_lu_8 (ReLU)              (None, 42, 68, 60)        0         \n",
      "                                                                 \n",
      " max_pooling2d_8 (MaxPooling  (None, 41, 67, 60)       0         \n",
      " 2D)                                                             \n",
      "                                                                 \n",
      " conv2d_9 (Conv2D)           (None, 21, 34, 40)        21640     \n",
      "                                                                 \n",
      " batch_normalization_9 (Batc  (None, 21, 34, 40)       160       \n",
      " hNormalization)                                                 \n",
      "                                                                 \n",
      " re_lu_9 (ReLU)              (None, 21, 34, 40)        0         \n",
      "                                                                 \n",
      " max_pooling2d_9 (MaxPooling  (None, 20, 33, 40)       0         \n",
      " 2D)                                                             \n",
      "                                                                 \n",
      " conv2d_10 (Conv2D)          (None, 10, 17, 20)        7220      \n",
      "                                                                 \n",
      " batch_normalization_10 (Bat  (None, 10, 17, 20)       80        \n",
      " chNormalization)                                                \n",
      "                                                                 \n",
      " re_lu_10 (ReLU)             (None, 10, 17, 20)        0         \n",
      "                                                                 \n",
      " max_pooling2d_10 (MaxPoolin  (None, 5, 8, 20)         0         \n",
      " g2D)                                                            \n",
      "                                                                 \n",
      " conv2d_11 (Conv2D)          (None, 3, 4, 10)          1810      \n",
      "                                                                 \n",
      " batch_normalization_11 (Bat  (None, 3, 4, 10)         40        \n",
      " chNormalization)                                                \n",
      "                                                                 \n",
      " re_lu_11 (ReLU)             (None, 3, 4, 10)          0         \n",
      "                                                                 \n",
      " max_pooling2d_11 (MaxPoolin  (None, 2, 3, 10)         0         \n",
      " g2D)                                                            \n",
      "                                                                 \n",
      " flatten_1 (Flatten)         (None, 60)                0         \n",
      "                                                                 \n",
      " dense_2 (Dense)             (None, 20)                1220      \n",
      "                                                                 \n",
      " dense_3 (Dense)             (None, 1)                 21        \n",
      "                                                                 \n",
      "=================================================================\n",
      "Total params: 59,341\n",
      "Trainable params: 58,961\n",
      "Non-trainable params: 380\n",
      "_________________________________________________________________\n"
     ]
    }
   ],
   "source": [
    "savedModel=tf.keras.models.load_model('./model.h5')\n",
    "savedModel.summary()"
   ]
  },
  {
   "cell_type": "code",
   "execution_count": 3,
   "metadata": {},
   "outputs": [],
   "source": [
    "def predict(imag):\n",
    "    img = (Image.open(imag).resize((819,512)) )   \n",
    "    potMes = \"\"\n",
    "    val = np.asarray(img)\n",
    "\n",
    "    plt.imshow(val)\n",
    "\n",
    "    swapped = np.moveaxis(val, 0, 2)  # shape (y_pixels, x_pixels, n_bands)\n",
    "    arr4d = np.expand_dims(val,0)\n",
    "    prediction = int(savedModel.predict(arr4d))\n",
    "    if prediction < 15:\n",
    "        potMes = \"We suggest you should avoid burning this area\"\n",
    "    elif prediction > 85:\n",
    "        potMes = \"There is evident residue in this area, consider redirecting it to other byproducts\"   \n",
    "    else: potMes = \"\"\n",
    "    return(f\"We predict a residue of {int(savedModel.predict(arr4d))}%\" + potMes)"
   ]
  },
  {
   "cell_type": "code",
   "execution_count": null,
   "metadata": {},
   "outputs": [
    {
     "name": "stdout",
     "output_type": "stream",
     "text": [
      " * Serving Flask app '__main__'\n",
      " * Debug mode: off\n"
     ]
    },
    {
     "name": "stderr",
     "output_type": "stream",
     "text": [
      "\u001b[31m\u001b[1mWARNING: This is a development server. Do not use it in a production deployment. Use a production WSGI server instead.\u001b[0m\n",
      " * Running on http://127.0.0.1:5000\n",
      "\u001b[33mPress CTRL+C to quit\u001b[0m\n",
      "127.0.0.1 - - [01/Feb/2023 13:08:54] \"GET / HTTP/1.1\" 200 -\n",
      "127.0.0.1 - - [01/Feb/2023 13:09:16] \"GET /home3 HTTP/1.1\" 200 -\n",
      "127.0.0.1 - - [01/Feb/2023 13:09:20] \"GET /home2 HTTP/1.1\" 200 -\n",
      "2023-02-01 13:09:25.020126: W tensorflow/core/platform/profile_utils/cpu_utils.cc:128] Failed to get CPU frequency: 0 Hz\n",
      "2023-02-01 13:09:25.131225: I tensorflow/core/grappler/optimizers/custom_graph_optimizer_registry.cc:113] Plugin optimizer for device_type GPU is enabled.\n"
     ]
    },
    {
     "name": "stdout",
     "output_type": "stream",
     "text": [
      "1/1 [==============================] - 0s 234ms/step\n",
      "1/1 [==============================] - 0s 16ms/step\n"
     ]
    },
    {
     "name": "stderr",
     "output_type": "stream",
     "text": [
      "127.0.0.1 - - [01/Feb/2023 13:09:25] \"POST / HTTP/1.1\" 200 -\n",
      "127.0.0.1 - - [01/Feb/2023 13:09:25] \"GET /static/uploads/ABoVE_alder_photo_2019.jpg HTTP/1.1\" 200 -\n"
     ]
    },
    {
     "name": "stdout",
     "output_type": "stream",
     "text": [
      "We predict a residue of 24%\n",
      "1/1 [==============================] - 0s 49ms/step\n",
      "1/1 [==============================] - 0s 12ms/step\n"
     ]
    },
    {
     "name": "stderr",
     "output_type": "stream",
     "text": [
      "127.0.0.1 - - [01/Feb/2023 13:09:46] \"POST / HTTP/1.1\" 200 -\n",
      "127.0.0.1 - - [01/Feb/2023 13:09:46] \"GET /static/uploads/ABoVE_alder_photo_2019.jpg HTTP/1.1\" 200 -\n"
     ]
    },
    {
     "name": "stdout",
     "output_type": "stream",
     "text": [
      "We predict a residue of 24%\n"
     ]
    },
    {
     "name": "stderr",
     "output_type": "stream",
     "text": [
      "127.0.0.1 - - [01/Feb/2023 13:09:53] \"POST / HTTP/1.1\" 200 -\n",
      "127.0.0.1 - - [01/Feb/2023 13:10:17] \"GET /home1 HTTP/1.1\" 200 -\n",
      "127.0.0.1 - - [01/Feb/2023 13:10:20] \"GET /home3 HTTP/1.1\" 200 -\n",
      "127.0.0.1 - - [01/Feb/2023 13:10:22] \"GET /home2 HTTP/1.1\" 200 -\n"
     ]
    }
   ],
   "source": [
    "import os\n",
    "\n",
    "import urllib.request\n",
    "from flask import Flask, flash, request, redirect, url_for, render_template\n",
    "from werkzeug.utils import secure_filename\n",
    "\n",
    "ALLOWED_EXTENSIONS = set(['jpg','jpeg'])\n",
    "\n",
    "def allowed_file(filename):\n",
    "    return '.' in filename and filename.rsplit('.', 1)[1].lower() in ALLOWED_EXTENSIONS\n",
    "\n",
    "@app.route('/')\n",
    "def upload_form():\n",
    "        return render_template('home1.html')\n",
    "\n",
    "\n",
    "@app.route('/', methods=['POST'])\n",
    "def upload_image():\n",
    "    if 'file' not in request.files:\n",
    "       \n",
    "        return redirect(request.url)\n",
    "    file = request.files['file']\n",
    "    if file.filename == '':\n",
    "        flash('Please enter image')\n",
    "        return render_template('home2.html')\n",
    "    if file and allowed_file(file.filename):\n",
    "        filename = secure_filename(file.filename)\n",
    "        file.save(os.path.join(app.config['UPLOAD_FOLDER'], filename))\n",
    "        \n",
    "        message = predict(os.path.join(app.config['UPLOAD_FOLDER'], filename))\n",
    "        print(message)\n",
    "        return render_template('home2.html', filename=filename, output = message)\n",
    "    else:\n",
    "        flash('Only jpg or jpeg images are allowed')\n",
    "        return render_template('home2.html')\n",
    "\n",
    "@app.route('/display/<filename>')\n",
    "def display_image(filename):\n",
    "   \n",
    "    return redirect(url_for('static', filename='uploads/' + filename), code=301)\n",
    "@app.route('/home2')\n",
    "def home2():\n",
    "    return render_template('home2.html')\n",
    "@app.route('/home3')\n",
    "def home3():\n",
    "    return render_template('home3.html')\n",
    "\n",
    "@app.route('/home1')\n",
    "def home1():\n",
    "        return render_template('home1.html')\n",
    "\n",
    "\n",
    "if __name__ == \"__main__\":\n",
    "    app.run(port = 5000)"
   ]
  },
  {
   "cell_type": "code",
   "execution_count": null,
   "metadata": {},
   "outputs": [],
   "source": []
  },
  {
   "cell_type": "code",
   "execution_count": null,
   "metadata": {},
   "outputs": [],
   "source": []
  },
  {
   "cell_type": "code",
   "execution_count": null,
   "metadata": {},
   "outputs": [],
   "source": []
  },
  {
   "cell_type": "code",
   "execution_count": 87,
   "metadata": {},
   "outputs": [],
   "source": []
  },
  {
   "cell_type": "code",
   "execution_count": 88,
   "metadata": {},
   "outputs": [],
   "source": []
  },
  {
   "cell_type": "code",
   "execution_count": 89,
   "metadata": {},
   "outputs": [],
   "source": []
  },
  {
   "cell_type": "code",
   "execution_count": 90,
   "metadata": {},
   "outputs": [],
   "source": []
  },
  {
   "cell_type": "code",
   "execution_count": 91,
   "metadata": {},
   "outputs": [],
   "source": []
  },
  {
   "cell_type": "code",
   "execution_count": 92,
   "metadata": {},
   "outputs": [],
   "source": []
  },
  {
   "cell_type": "code",
   "execution_count": 93,
   "metadata": {},
   "outputs": [
    {
     "name": "stdout",
     "output_type": "stream",
     "text": [
      " * Serving Flask app '__main__'\n",
      " * Debug mode: off\n"
     ]
    },
    {
     "name": "stderr",
     "output_type": "stream",
     "text": [
      "\u001b[31m\u001b[1mWARNING: This is a development server. Do not use it in a production deployment. Use a production WSGI server instead.\u001b[0m\n",
      " * Running on http://127.0.0.1:5600\n",
      "\u001b[33mPress CTRL+C to quit\u001b[0m\n",
      "127.0.0.1 - - [31/Jan/2023 19:05:51] \"GET / HTTP/1.1\" 200 -\n",
      "127.0.0.1 - - [31/Jan/2023 19:05:51] \"\u001b[33mGET /favicon.ico HTTP/1.1\u001b[0m\" 404 -\n",
      "127.0.0.1 - - [31/Jan/2023 19:05:55] \"POST /f HTTP/1.1\" 200 -\n",
      "127.0.0.1 - - [31/Jan/2023 19:05:55] \"\u001b[33mGET /display/static/uploads/FileStorage_918_and_LaFerrari.jpg_image_jpeg HTTP/1.1\u001b[0m\" 404 -\n"
     ]
    },
    {
     "name": "stdout",
     "output_type": "stream",
     "text": [
      "static/uploads/FileStorage_918_and_LaFerrari.jpg_image_jpeg\n",
      "../static/usrimgs/FileStorage_918_and_LaFerrari.jpg_image_jpeg\n"
     ]
    }
   ],
   "source": []
  },
  {
   "cell_type": "code",
   "execution_count": null,
   "metadata": {},
   "outputs": [],
   "source": []
  },
  {
   "cell_type": "code",
   "execution_count": null,
   "metadata": {},
   "outputs": [],
   "source": [
    "\n"
   ]
  },
  {
   "cell_type": "code",
   "execution_count": null,
   "metadata": {},
   "outputs": [],
   "source": []
  },
  {
   "cell_type": "code",
   "execution_count": null,
   "metadata": {},
   "outputs": [],
   "source": []
  },
  {
   "cell_type": "code",
   "execution_count": null,
   "metadata": {},
   "outputs": [],
   "source": []
  }
 ],
 "metadata": {
  "kernelspec": {
   "display_name": "Python 3 (ipykernel)",
   "language": "python",
   "name": "python3"
  },
  "language_info": {
   "codemirror_mode": {
    "name": "ipython",
    "version": 3
   },
   "file_extension": ".py",
   "mimetype": "text/x-python",
   "name": "python",
   "nbconvert_exporter": "python",
   "pygments_lexer": "ipython3",
   "version": "3.10.8"
  }
 },
 "nbformat": 4,
 "nbformat_minor": 2
}
